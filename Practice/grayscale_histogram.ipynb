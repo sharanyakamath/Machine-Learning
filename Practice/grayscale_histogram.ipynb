{
 "cells": [
  {
   "cell_type": "code",
   "execution_count": 1,
   "metadata": {},
   "outputs": [],
   "source": [
    "import cv2\n",
    "import numpy as np\n",
    "from matplotlib import pyplot as plt"
   ]
  },
  {
   "cell_type": "code",
   "execution_count": 2,
   "metadata": {},
   "outputs": [],
   "source": [
    "gray_img = cv2.imread('/home/sharanya/basic-neural-network/i.png', cv2.IMREAD_GRAYSCALE)"
   ]
  },
  {
   "cell_type": "code",
   "execution_count": 3,
   "metadata": {},
   "outputs": [
    {
     "data": {
      "text/plain": [
       "(array([  1.00000000e+00,   1.00000000e+00,   2.00000000e+00,\n",
       "          3.00000000e+00,   1.00000000e+00,   0.00000000e+00,\n",
       "          5.00000000e+00,   7.00000000e+00,   6.00000000e+00,\n",
       "          8.00000000e+00,   8.00000000e+00,   1.20000000e+01,\n",
       "          9.00000000e+00,   1.00000000e+01,   8.00000000e+00,\n",
       "          2.90000000e+01,   4.10000000e+01,   4.80000000e+01,\n",
       "          4.10000000e+01,   4.70000000e+01,   3.00000000e+01,\n",
       "          7.10000000e+01,   2.13000000e+02,   3.75000000e+02,\n",
       "          5.47000000e+02,   5.20000000e+02,   4.29000000e+02,\n",
       "          5.84000000e+02,   5.79000000e+02,   6.67000000e+02,\n",
       "          8.98000000e+02,   8.79000000e+02,   1.08800000e+03,\n",
       "          1.29700000e+03,   1.23200000e+03,   1.17900000e+03,\n",
       "          1.19200000e+03,   1.06500000e+03,   6.85000000e+02,\n",
       "          4.36000000e+02,   4.23000000e+02,   2.85000000e+02,\n",
       "          2.59000000e+02,   1.76000000e+02,   1.73000000e+02,\n",
       "          1.68000000e+02,   2.00000000e+02,   1.56000000e+02,\n",
       "          2.68000000e+02,   2.68000000e+02,   4.08110000e+04,\n",
       "          1.62500000e+03,   2.08700000e+03,   4.40000000e+02,\n",
       "          1.68500000e+03,   6.85000000e+02,   5.87000000e+02,\n",
       "          2.92600000e+03,   1.97000000e+03,   1.54100000e+03,\n",
       "          3.21900000e+03,   2.99200000e+03,   4.20300000e+03,\n",
       "          1.79300000e+03,   3.06900000e+03,   4.16700000e+03,\n",
       "          2.96400000e+03,   2.78700000e+03,   4.65100000e+03,\n",
       "          2.70700000e+03,   4.14400000e+03,   2.92000000e+03,\n",
       "          2.67300000e+03,   2.74800000e+03,   3.95500000e+03,\n",
       "          2.90500000e+03,   4.58900000e+03,   2.78000000e+03,\n",
       "          1.59600000e+03,   4.43900000e+03,   2.78900000e+03,\n",
       "          4.11900000e+03,   2.81500000e+03,   1.55100000e+03,\n",
       "          1.66000000e+02,   1.66400000e+03,   1.70200000e+03,\n",
       "          1.52800000e+03,   4.66000000e+02,   8.74000000e+02,\n",
       "          5.87000000e+02,   1.87000000e+02,   3.79000000e+02,\n",
       "          3.13000000e+02,   2.51000000e+02,   1.52400000e+03,\n",
       "          1.52000000e+02,   2.78000000e+02,   1.22000000e+02,\n",
       "          1.17000000e+02,   2.12000000e+02,   4.11000000e+02,\n",
       "          3.72000000e+02,   4.16000000e+02,   1.03400000e+03,\n",
       "          2.40000000e+02,   1.21000000e+02,   1.14000000e+02,\n",
       "          1.09000000e+02,   2.89000000e+02,   1.27000000e+02,\n",
       "          1.96000000e+02,   1.91000000e+02,   2.21600000e+03,\n",
       "          1.35000000e+02,   4.77000000e+02,   2.94000000e+02,\n",
       "          5.50000000e+02,   1.81000000e+02,   2.32000000e+02,\n",
       "          1.04000000e+02,   1.50000000e+02,   2.39000000e+02,\n",
       "          1.48000000e+02,   2.19000000e+02,   2.61000000e+02,\n",
       "          3.72000000e+02,   3.77000000e+02,   2.38000000e+02,\n",
       "          9.00000000e+02,   1.57000000e+02,   2.30000000e+02,\n",
       "          1.61000000e+02,   5.31000000e+02,   5.12000000e+02,\n",
       "          1.52000000e+02,   8.22150000e+04,   1.87000000e+02,\n",
       "          1.65000000e+02,   4.63000000e+02,   2.93000000e+02,\n",
       "          1.36000000e+02,   3.04000000e+02,   1.46000000e+02,\n",
       "          3.79000000e+02,   1.61000000e+02,   1.79500000e+03,\n",
       "          2.62000000e+02,   3.77000000e+02,   7.43000000e+02,\n",
       "          2.72000000e+02,   3.12000000e+02,   2.83000000e+02,\n",
       "          2.61000000e+02,   4.45000000e+02,   1.64000000e+02,\n",
       "          3.24000000e+02,   4.11000000e+02,   4.45000000e+02,\n",
       "          5.27000000e+02,   2.82000000e+02,   2.36000000e+02,\n",
       "          2.74000000e+02,   2.45000000e+02,   1.80000000e+02,\n",
       "          2.02000000e+02,   2.71000000e+02,   2.48000000e+02,\n",
       "          3.34000000e+02,   4.19000000e+02,   1.75000000e+02,\n",
       "          2.15000000e+02,   1.59000000e+02,   1.81000000e+02,\n",
       "          2.37000000e+02,   1.32000000e+02,   1.32000000e+02,\n",
       "          5.57000000e+02,   1.22000000e+02,   4.89000000e+02,\n",
       "          2.28000000e+02,   1.71000000e+02,   2.47000000e+02,\n",
       "          7.77000000e+02,   1.95000000e+02,   1.76300000e+03,\n",
       "          1.86000000e+02,   1.69000000e+02,   3.10000000e+02,\n",
       "          2.93000000e+02,   2.19000000e+02,   1.71000000e+02,\n",
       "          1.99000000e+02,   3.61000000e+02,   1.24000000e+02,\n",
       "          1.31000000e+02,   2.80000000e+02,   2.03000000e+02,\n",
       "          2.29000000e+02,   1.34000000e+02,   3.56000000e+02,\n",
       "          1.43000000e+02,   4.03000000e+02,   2.52000000e+02,\n",
       "          2.31000000e+02,   5.14000000e+02,   4.55000000e+02,\n",
       "          4.06000000e+02,   3.82000000e+02,   1.93000000e+02,\n",
       "          6.62000000e+02,   8.85000000e+02,   3.45175000e+05,\n",
       "          1.29000000e+02,   1.55000000e+02,   1.51000000e+02,\n",
       "          4.67000000e+02,   1.57000000e+02,   8.97000000e+02,\n",
       "          2.84300000e+03,   2.14000000e+02,   1.70000000e+02,\n",
       "          1.25000000e+02,   1.33000000e+02,   2.34000000e+02,\n",
       "          3.47000000e+02,   3.66000000e+02,   2.37000000e+02,\n",
       "          1.63000000e+02,   2.42000000e+02,   1.53000000e+02,\n",
       "          2.16000000e+02,   2.96000000e+02,   4.31000000e+02,\n",
       "          1.38200000e+03,   1.00400000e+03,   1.55200000e+03,\n",
       "          1.59500000e+03,   2.96900000e+03,   1.15600000e+03,\n",
       "          1.22700000e+03,   3.89695000e+05,   1.47300000e+03,\n",
       "          8.34000000e+02,   8.17000000e+02,   7.95000000e+02,\n",
       "          1.25100000e+03,   1.46400000e+03,   1.48400000e+03,\n",
       "          1.46800000e+03,   1.41900000e+03,   1.49000000e+03,\n",
       "          1.49500000e+03,   1.40600000e+03,   9.50000000e+02,\n",
       "          8.90000000e+02]),\n",
       " array([   0.,    1.,    2.,    3.,    4.,    5.,    6.,    7.,    8.,\n",
       "           9.,   10.,   11.,   12.,   13.,   14.,   15.,   16.,   17.,\n",
       "          18.,   19.,   20.,   21.,   22.,   23.,   24.,   25.,   26.,\n",
       "          27.,   28.,   29.,   30.,   31.,   32.,   33.,   34.,   35.,\n",
       "          36.,   37.,   38.,   39.,   40.,   41.,   42.,   43.,   44.,\n",
       "          45.,   46.,   47.,   48.,   49.,   50.,   51.,   52.,   53.,\n",
       "          54.,   55.,   56.,   57.,   58.,   59.,   60.,   61.,   62.,\n",
       "          63.,   64.,   65.,   66.,   67.,   68.,   69.,   70.,   71.,\n",
       "          72.,   73.,   74.,   75.,   76.,   77.,   78.,   79.,   80.,\n",
       "          81.,   82.,   83.,   84.,   85.,   86.,   87.,   88.,   89.,\n",
       "          90.,   91.,   92.,   93.,   94.,   95.,   96.,   97.,   98.,\n",
       "          99.,  100.,  101.,  102.,  103.,  104.,  105.,  106.,  107.,\n",
       "         108.,  109.,  110.,  111.,  112.,  113.,  114.,  115.,  116.,\n",
       "         117.,  118.,  119.,  120.,  121.,  122.,  123.,  124.,  125.,\n",
       "         126.,  127.,  128.,  129.,  130.,  131.,  132.,  133.,  134.,\n",
       "         135.,  136.,  137.,  138.,  139.,  140.,  141.,  142.,  143.,\n",
       "         144.,  145.,  146.,  147.,  148.,  149.,  150.,  151.,  152.,\n",
       "         153.,  154.,  155.,  156.,  157.,  158.,  159.,  160.,  161.,\n",
       "         162.,  163.,  164.,  165.,  166.,  167.,  168.,  169.,  170.,\n",
       "         171.,  172.,  173.,  174.,  175.,  176.,  177.,  178.,  179.,\n",
       "         180.,  181.,  182.,  183.,  184.,  185.,  186.,  187.,  188.,\n",
       "         189.,  190.,  191.,  192.,  193.,  194.,  195.,  196.,  197.,\n",
       "         198.,  199.,  200.,  201.,  202.,  203.,  204.,  205.,  206.,\n",
       "         207.,  208.,  209.,  210.,  211.,  212.,  213.,  214.,  215.,\n",
       "         216.,  217.,  218.,  219.,  220.,  221.,  222.,  223.,  224.,\n",
       "         225.,  226.,  227.,  228.,  229.,  230.,  231.,  232.,  233.,\n",
       "         234.,  235.,  236.,  237.,  238.,  239.,  240.,  241.,  242.,\n",
       "         243.,  244.,  245.,  246.,  247.,  248.,  249.,  250.,  251.,\n",
       "         252.,  253.,  254.,  255.,  256.]),\n",
       " <a list of 256 Patch objects>)"
      ]
     },
     "execution_count": 3,
     "metadata": {},
     "output_type": "execute_result"
    }
   ],
   "source": [
    "plt.hist(gray_img.ravel(),256,[0,256])"
   ]
  },
  {
   "cell_type": "code",
   "execution_count": 4,
   "metadata": {},
   "outputs": [],
   "source": [
    "plt.title('Histogram for gray scale picture');"
   ]
  },
  {
   "cell_type": "code",
   "execution_count": 5,
   "metadata": {},
   "outputs": [
    {
     "data": {
      "image/png": "[encoded data removed]",
      "text/plain": [
       "<matplotlib.figure.Figure at 0x7f565225c550>"
      ]
     },
     "metadata": {},
     "output_type": "display_data"
    }
   ],
   "source": [
    "plt.show()"
   ]
  },
  {
   "cell_type": "code",
   "execution_count": null,
   "metadata": {
    "collapsed": true
   },
   "outputs": [],
   "source": []
  }
 ],
 "metadata": {
  "kernelspec": {
   "display_name": "Python 2",
   "language": "python",
   "name": "python2"
  },
  "language_info": {
   "codemirror_mode": {
    "name": "ipython",
    "version": 2
   },
   "file_extension": ".py",
   "mimetype": "text/x-python",
   "name": "python",
   "nbconvert_exporter": "python",
   "pygments_lexer": "ipython2",
   "version": "2.7.14"
  }
 },
 "nbformat": 4,
 "nbformat_minor": 2
}
